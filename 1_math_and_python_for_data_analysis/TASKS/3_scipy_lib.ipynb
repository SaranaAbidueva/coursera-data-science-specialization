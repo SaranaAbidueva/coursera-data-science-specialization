{
 "cells": [
  {
   "cell_type": "code",
   "execution_count": 1,
   "metadata": {},
   "outputs": [],
   "source": [
    "import numpy as np\n",
    "from scipy.optimize import minimize\n",
    "y = lambda x: np.sin(float(x) / 5) * np.exp(float(x) / 10) + 5 * np.exp(-float(x) / 2)\n",
    "xmin = minimize(y, 2, method='BFGS')\n",
    "ymin = round(y(xmin.x[0]), 2)\n",
    "file = open('submission3.txt', 'w')\n",
    "file.write(str(ymin))\n",
    "xmin = minimize(y, 30, method='BFGS')\n",
    "ymin = round(y(xmin.x[0]), 2)\n",
    "ymin\n",
    "file.write(' ' + str(ymin))\n",
    "file.close()"
   ]
  },
  {
   "cell_type": "code",
   "execution_count": 2,
   "metadata": {},
   "outputs": [],
   "source": [
    "from scipy.optimize import differential_evolution\n",
    "xmin = differential_evolution(y, [(1, 30)])\n",
    "ymin = round(y(xmin.x[0]), 2)\n",
    "file = open('submission4.txt', 'w')\n",
    "file.write(str(ymin))\n",
    "file.close()"
   ]
  },
  {
   "cell_type": "code",
   "execution_count": 3,
   "metadata": {},
   "outputs": [],
   "source": [
    "h= lambda x: int(np.sin(x / 5) * np.exp(x / 10) + 5 * np.exp(-x / 2) )\n",
    "#import matplotlib.pyplot as plt\n",
    "#x=np.linspace(1,30, 100)\n",
    "#plt.plot(x, h(x))\n",
    "xmin = minimize(h, 30, method='BFGS')\n",
    "ymin = round(y(xmin.x[0]), 2)\n",
    "xmin2 = differential_evolution(h, [(1, 30)])\n",
    "ymin2 = round(y(xmin2.x[0]), 2)\n",
    "file = open('submission5.txt', 'w')\n",
    "file.write(str(ymin) + ' ' + str(ymin2))\n",
    "file.close()"
   ]
  },
  {
   "cell_type": "code",
   "execution_count": null,
   "metadata": {},
   "outputs": [],
   "source": []
  }
 ],
 "metadata": {
  "kernelspec": {
   "display_name": "Python 3",
   "language": "python",
   "name": "python3"
  },
  "language_info": {
   "codemirror_mode": {
    "name": "ipython",
    "version": 3
   },
   "file_extension": ".py",
   "mimetype": "text/x-python",
   "name": "python",
   "nbconvert_exporter": "python",
   "pygments_lexer": "ipython3",
   "version": "3.8.3"
  }
 },
 "nbformat": 4,
 "nbformat_minor": 4
}
