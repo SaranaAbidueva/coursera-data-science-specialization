{
 "cells": [
  {
   "cell_type": "markdown",
   "metadata": {},
   "source": [
    "Задача: сравнение предложений\n",
    "Дан набор предложений, скопированных с Википедии. Каждое из них имеет \"кошачью тему\" в одном из трех смыслов:\n",
    "кошки (животные);\n",
    "UNIX-утилита cat для вывода содержимого файлов;\n",
    "версии операционной системы OS X, названные в честь семейства кошачьих\n",
    "\n",
    "Задача — найти два предложения, которые ближе всего по смыслу к расположенному в самой первой строке. В качестве меры близости по смыслу мы будем использовать косинусное расстояние."
   ]
  },
  {
   "cell_type": "code",
   "execution_count": 1,
   "metadata": {},
   "outputs": [],
   "source": [
    "import re\n",
    "import numpy as np\n",
    "from scipy.spatial import distance\n",
    "file = open(r\"C:\\Users\\Admin\\ПРОГИ\\COURSERA\\1 курс\\TASKS\\sentences.txt\", 'r+')\n",
    "new_file = open('new_file.txt', 'w')\n",
    "d = 0\n",
    "n = 0\n",
    "dictionary = {}\n",
    "text = []\n",
    "for line in file:\n",
    "    n += 1\n",
    "    new_line = line.lower()\n",
    "    new_line = re.split('[^a-z]', new_line)\n",
    "    while '' in new_line:\n",
    "        new_line.remove('')\n",
    "    i = 0\n",
    "    k = 0\n",
    "    text += [new_line]\n",
    "    while k != len(new_line):\n",
    "        if (new_line[k] in dictionary) == False:\n",
    "            dictionary[new_line[k]] = d + i\n",
    "            i += 1\n",
    "        k += 1\n",
    "    d += i\n",
    "A = [[0] * d for i in range(n)]\n",
    "i = 0\n",
    "d1 = {v:k for k, v in dictionary.items()}\n",
    "for i in range(n):\n",
    "    for j in range(d):\n",
    "        for k in range(len(text[i])):\n",
    "            if (d1[j] == text[i][k]):\n",
    "                A[i][j] += 1\n",
    "min1 = 2\n",
    "min2 = 2\n",
    "ind1 = 0\n",
    "for i in range(1,n):\n",
    "    dist = distance.cosine(A[0], A[i])\n",
    "    if (dist < min1) and (dist < min2):\n",
    "        min2 = min1\n",
    "        ind2 = ind1\n",
    "        min1 = dist\n",
    "        ind1 = i\n",
    "    else:\n",
    "        if dist < min2:\n",
    "            min2 = dist\n",
    "            ind2 = i\n",
    "string = str(ind1) + ' ' +str(ind2)\n",
    "new_file.write(string)\n",
    "new_file.close()\n",
    "file.close()"
   ]
  }
 ],
 "metadata": {
  "kernelspec": {
   "display_name": "Python 3",
   "language": "python",
   "name": "python3"
  },
  "language_info": {
   "codemirror_mode": {
    "name": "ipython",
    "version": 3
   },
   "file_extension": ".py",
   "mimetype": "text/x-python",
   "name": "python",
   "nbconvert_exporter": "python",
   "pygments_lexer": "ipython3",
   "version": "3.8.3"
  }
 },
 "nbformat": 4,
 "nbformat_minor": 4
}
